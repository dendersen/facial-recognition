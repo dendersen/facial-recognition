{
 "cells": [
  {
   "cell_type": "code",
   "execution_count": 1,
   "metadata": {},
   "outputs": [],
   "source": [
    "import tensorflow as tf\n",
    "from tensorflow import keras\n",
    "from keras.layers import Layer, Conv2D, Dense, MaxPooling2D, MaxPooling3D, Input, Flatten, Dropout\n",
    "from tensorflow.python.keras.models import Model\n",
    "import numpy as np\n",
    "from random import shuffle\n",
    "import SRC.image.imageLoader as IL\n",
    "import SRC.image.imageCapture as IC\n",
    "from matplotlib import pyplot as plt\n",
    "import math\n",
    "import cv2 as cv"
   ]
  },
  {
   "cell_type": "code",
   "execution_count": 3,
   "metadata": {},
   "outputs": [],
   "source": [
    "input_image = Input(shape=(100, 100, 3), name='inputImage')"
   ]
  },
  {
   "cell_type": "code",
   "execution_count": 8,
   "metadata": {},
   "outputs": [
    {
     "data": {
      "text/plain": [
       "<KerasTensor: shape=(None, 47, 47, 64) dtype=float32 (created by layer 'max_pooling2d')>"
      ]
     },
     "execution_count": 8,
     "metadata": {},
     "output_type": "execute_result"
    }
   ],
   "source": [
    "conv1 = Conv2D(filters=64, kernel_size=(7, 7), strides=(1, 1), padding='valid', activation='relu')(input_image)\n",
    "maxpool1 = MaxPooling2D(pool_size = (2, 2), padding = 'same')(conv1)\n",
    "maxpool1"
   ]
  },
  {
   "cell_type": "code",
   "execution_count": 9,
   "metadata": {},
   "outputs": [
    {
     "data": {
      "text/plain": [
       "<KerasTensor: shape=(None, 22, 22, 128) dtype=float32 (created by layer 'max_pooling2d_1')>"
      ]
     },
     "execution_count": 9,
     "metadata": {},
     "output_type": "execute_result"
    }
   ],
   "source": [
    "conv2 = Conv2D(filters=128, kernel_size=(5, 5), strides=(1, 1), padding=\"valid\", activation=\"relu\")(maxpool1)\n",
    "maxpool2 = MaxPooling2D(pool_size = (2, 2), padding = 'same')(conv2)\n",
    "maxpool2"
   ]
  },
  {
   "cell_type": "code",
   "execution_count": 11,
   "metadata": {},
   "outputs": [
    {
     "data": {
      "text/plain": [
       "<KerasTensor: shape=(None, 10, 10, 256) dtype=float32 (created by layer 'max_pooling2d_3')>"
      ]
     },
     "execution_count": 11,
     "metadata": {},
     "output_type": "execute_result"
    }
   ],
   "source": [
    "conv3 = Conv2D(filters=256, kernel_size=(3, 3), strides=(1, 1), padding=\"valid\", activation=\"relu\")(maxpool2)\n",
    "maxpool3 = MaxPooling2D(pool_size = (2, 2), padding = 'same')(conv3)\n",
    "maxpool3"
   ]
  },
  {
   "cell_type": "code",
   "execution_count": 12,
   "metadata": {},
   "outputs": [
    {
     "data": {
      "text/plain": [
       "<KerasTensor: shape=(None, 25600) dtype=float32 (created by layer 'flatten')>"
      ]
     },
     "execution_count": 12,
     "metadata": {},
     "output_type": "execute_result"
    }
   ],
   "source": [
    "flat1 = Flatten()(maxpool3)\n",
    "flat1"
   ]
  },
  {
   "cell_type": "code",
   "execution_count": 14,
   "metadata": {},
   "outputs": [
    {
     "data": {
      "text/plain": [
       "<KerasTensor: shape=(None, 8172) dtype=float32 (created by layer 'dropout')>"
      ]
     },
     "execution_count": 14,
     "metadata": {},
     "output_type": "execute_result"
    }
   ],
   "source": [
    "dense1 = Dense(8172, activation='relu')(flat1)\n",
    "dropout1 = Dropout(rate=.7)(dense1)\n",
    "dropout1"
   ]
  },
  {
   "cell_type": "code",
   "execution_count": 15,
   "metadata": {},
   "outputs": [
    {
     "data": {
      "text/plain": [
       "<KerasTensor: shape=(None, 4096) dtype=float32 (created by layer 'dropout_1')>"
      ]
     },
     "execution_count": 15,
     "metadata": {},
     "output_type": "execute_result"
    }
   ],
   "source": [
    "dense2 = Dense(4096,activation='relu')(dropout1)\n",
    "dropout2 = Dropout(rate=.7)(dense2)\n",
    "dropout2"
   ]
  },
  {
   "cell_type": "code",
   "execution_count": 16,
   "metadata": {},
   "outputs": [
    {
     "data": {
      "text/plain": [
       "<KerasTensor: shape=(None, 4) dtype=float32 (created by layer 'dense_3')>"
      ]
     },
     "execution_count": 16,
     "metadata": {},
     "output_type": "execute_result"
    }
   ],
   "source": [
    "# Output\n",
    "dense3 = Dense(4, activation='sigmoid')(dropout2)\n",
    "dense3"
   ]
  },
  {
   "cell_type": "code",
   "execution_count": null,
   "metadata": {},
   "outputs": [],
   "source": []
  }
 ],
 "metadata": {
  "kernelspec": {
   "display_name": "tensorflowAI",
   "language": "python",
   "name": "python3"
  },
  "language_info": {
   "codemirror_mode": {
    "name": "ipython",
    "version": 3
   },
   "file_extension": ".py",
   "mimetype": "text/x-python",
   "name": "python",
   "nbconvert_exporter": "python",
   "pygments_lexer": "ipython3",
   "version": "3.7.13"
  },
  "orig_nbformat": 4
 },
 "nbformat": 4,
 "nbformat_minor": 2
}
